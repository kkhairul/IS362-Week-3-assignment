{
 "cells": [
  {
   "cell_type": "code",
   "execution_count": 61,
   "metadata": {},
   "outputs": [],
   "source": [
    "# import numpy and pandas\n",
    "import numpy as np\n",
    "import pandas as pd"
   ]
  },
  {
   "cell_type": "code",
   "execution_count": 62,
   "metadata": {},
   "outputs": [],
   "source": [
    "# import the randint function from random\n",
    "from random import randint"
   ]
  },
  {
   "cell_type": "code",
   "execution_count": 63,
   "metadata": {},
   "outputs": [],
   "source": [
    "# create a funtion to supply random distances between 55 miles \n",
    "# and 75 miles to assign cumulative distances to the aray\n",
    "def getRandDistance():\n",
    "    global odometer \n",
    "    odometer += randint(55,75)\n",
    "    return odometer"
   ]
  },
  {
   "cell_type": "code",
   "execution_count": 145,
   "metadata": {},
   "outputs": [
    {
     "data": {
      "text/plain": [
       "0     65\n",
       "1    120\n",
       "2    184\n",
       "3    250\n",
       "4    325\n",
       "5    395\n",
       "6    450\n",
       "7    523\n",
       "dtype: int64"
      ]
     },
     "execution_count": 145,
     "metadata": {},
     "output_type": "execute_result"
    }
   ],
   "source": [
    "# the newDistance function to increment it\n",
    "\n",
    "# create a variable that will represent our odometer\n",
    "odometer = 0\n",
    "\n",
    "# initialize the series\n",
    "pdDistance = pd.Series([getRandDistance(),\n",
    "                        getRandDistance(),\n",
    "                        getRandDistance(),\n",
    "                        getRandDistance(),\n",
    "                        getRandDistance(),\n",
    "                        getRandDistance(),\n",
    "                        getRandDistance(),\n",
    "                        getRandDistance()])\n",
    "\n",
    "# output the series\n",
    "pdDistance"
   ]
  },
  {
   "cell_type": "code",
   "execution_count": 146,
   "metadata": {},
   "outputs": [],
   "source": [
    "# series index and the one before it\n",
    "def getDailyDistance(sIndex):\n",
    "    global pdDistance\n",
    "    if sIndex <= pdDistance.size - 1 and sIndex >= 0:\n",
    "        if sIndex > 0:\n",
    "            return pdDistance[sIndex] - pdDistance[sIndex-1]\n",
    "        else:\n",
    "            return pdDistance[0]\n",
    "    else:\n",
    "        print('Error: getDailyDistance, index is out of range. Returning last element.')\n",
    "        return pdDistance[pdDistance.size-1]"
   ]
  },
  {
   "cell_type": "code",
   "execution_count": 147,
   "metadata": {},
   "outputs": [
    {
     "name": "stdout",
     "output_type": "stream",
     "text": [
      "On day 1 you traveled a distanace of 65 miles. Totaling 65 miles traveled.\n",
      "On day 2 you traveled a distanace of 55 miles. Totaling 120 miles traveled.\n",
      "On day 3 you traveled a distanace of 64 miles. Totaling 184 miles traveled.\n",
      "On day 4 you traveled a distanace of 66 miles. Totaling 250 miles traveled.\n",
      "On day 5 you traveled a distanace of 75 miles. Totaling 325 miles traveled.\n",
      "On day 6 you traveled a distanace of 70 miles. Totaling 395 miles traveled.\n",
      "On day 7 you traveled a distanace of 55 miles. Totaling 450 miles traveled.\n",
      "On day 8 you traveled a distanace of 73 miles. Totaling 523 miles traveled.\n"
     ]
    }
   ],
   "source": [
    "\n",
    "# return a Series from the distance object of the individual daily distances\n",
    "for i in range(0, pdDistance.size):\n",
    "    print('On day',i+1, 'you traveled a distanace of', getDailyDistance(i), 'miles.', 'Totaling',pdDistance[i],'miles traveled.')"
   ]
  },
  {
   "cell_type": "code",
   "execution_count": null,
   "metadata": {},
   "outputs": [],
   "source": []
  },
  {
   "cell_type": "code",
   "execution_count": null,
   "metadata": {},
   "outputs": [],
   "source": []
  }
 ],
 "metadata": {
  "kernelspec": {
   "display_name": "Python 3",
   "language": "python",
   "name": "python3"
  },
  "language_info": {
   "codemirror_mode": {
    "name": "ipython",
    "version": 3
   },
   "file_extension": ".py",
   "mimetype": "text/x-python",
   "name": "python",
   "nbconvert_exporter": "python",
   "pygments_lexer": "ipython3",
   "version": "3.7.4"
  }
 },
 "nbformat": 4,
 "nbformat_minor": 2
}
